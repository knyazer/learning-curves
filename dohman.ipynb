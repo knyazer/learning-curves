{
 "cells": [
  {
   "cell_type": "code",
   "execution_count": 1,
   "id": "f100f0c1-387d-4c99-a5f1-ca6652db8c41",
   "metadata": {
    "ExecuteTime": {
     "end_time": "2024-02-23T07:04:07.153540587Z",
     "start_time": "2024-02-23T07:04:06.113604061Z"
    }
   },
   "outputs": [],
   "source": [
    "import lcdb"
   ]
  },
  {
   "cell_type": "code",
   "execution_count": 2,
   "id": "a1c10ebd-152b-47b6-9910-95ca3f6510a4",
   "metadata": {
    "ExecuteTime": {
     "end_time": "2024-02-23T07:04:09.768269292Z",
     "start_time": "2024-02-23T07:04:07.986516915Z"
    }
   },
   "outputs": [
    {
     "data": {
      "text/plain": "         openmlid                             learner  size_train  size_test  \\\n0              44                          SVC_linear          16        461   \n1              44                          SVC_linear          23        461   \n2              44                          SVC_linear          32        461   \n3              44                          SVC_linear          45        461   \n4              44                          SVC_linear          64        461   \n...           ...                                 ...         ...        ...   \n1953366      1464  sklearn.linear_model.SGDClassifier         181         75   \n1953367      1464  sklearn.linear_model.SGDClassifier         256         75   \n1953368      1464  sklearn.linear_model.SGDClassifier         362         75   \n1953369      1464  sklearn.linear_model.SGDClassifier         512         75   \n1953370      1464  sklearn.linear_model.SGDClassifier         605         75   \n\n         outer_seed  inner_seed  traintime  score_train  score_valid  \\\n0                 0           0     0.0024       0.8750       0.7440   \n1                 0           0     0.0014       0.9565       0.7222   \n2                 0           0     0.0017       0.9375       0.7295   \n3                 0           0     0.0023       0.9778       0.8237   \n4                 0           0     0.0033       0.7812       0.6280   \n...             ...         ...        ...          ...          ...   \n1953366           4           4     0.0010       0.8011       0.7647   \n1953367           4           4     0.0012       0.7734       0.7647   \n1953368           4           4     0.0015       0.7735       0.7647   \n1953369           4           4     0.0018       0.4395       0.3676   \n1953370           4           4     0.0021       0.7620       0.7647   \n\n         score_test  \n0            0.7072  \n1            0.6876  \n2            0.7180  \n3            0.8048  \n4            0.6508  \n...             ...  \n1953366      0.7600  \n1953367      0.7600  \n1953368      0.7600  \n1953369      0.4533  \n1953370      0.7600  \n\n[1953371 rows x 10 columns]",
      "text/html": "<div>\n<style scoped>\n    .dataframe tbody tr th:only-of-type {\n        vertical-align: middle;\n    }\n\n    .dataframe tbody tr th {\n        vertical-align: top;\n    }\n\n    .dataframe thead th {\n        text-align: right;\n    }\n</style>\n<table border=\"1\" class=\"dataframe\">\n  <thead>\n    <tr style=\"text-align: right;\">\n      <th></th>\n      <th>openmlid</th>\n      <th>learner</th>\n      <th>size_train</th>\n      <th>size_test</th>\n      <th>outer_seed</th>\n      <th>inner_seed</th>\n      <th>traintime</th>\n      <th>score_train</th>\n      <th>score_valid</th>\n      <th>score_test</th>\n    </tr>\n  </thead>\n  <tbody>\n    <tr>\n      <th>0</th>\n      <td>44</td>\n      <td>SVC_linear</td>\n      <td>16</td>\n      <td>461</td>\n      <td>0</td>\n      <td>0</td>\n      <td>0.0024</td>\n      <td>0.8750</td>\n      <td>0.7440</td>\n      <td>0.7072</td>\n    </tr>\n    <tr>\n      <th>1</th>\n      <td>44</td>\n      <td>SVC_linear</td>\n      <td>23</td>\n      <td>461</td>\n      <td>0</td>\n      <td>0</td>\n      <td>0.0014</td>\n      <td>0.9565</td>\n      <td>0.7222</td>\n      <td>0.6876</td>\n    </tr>\n    <tr>\n      <th>2</th>\n      <td>44</td>\n      <td>SVC_linear</td>\n      <td>32</td>\n      <td>461</td>\n      <td>0</td>\n      <td>0</td>\n      <td>0.0017</td>\n      <td>0.9375</td>\n      <td>0.7295</td>\n      <td>0.7180</td>\n    </tr>\n    <tr>\n      <th>3</th>\n      <td>44</td>\n      <td>SVC_linear</td>\n      <td>45</td>\n      <td>461</td>\n      <td>0</td>\n      <td>0</td>\n      <td>0.0023</td>\n      <td>0.9778</td>\n      <td>0.8237</td>\n      <td>0.8048</td>\n    </tr>\n    <tr>\n      <th>4</th>\n      <td>44</td>\n      <td>SVC_linear</td>\n      <td>64</td>\n      <td>461</td>\n      <td>0</td>\n      <td>0</td>\n      <td>0.0033</td>\n      <td>0.7812</td>\n      <td>0.6280</td>\n      <td>0.6508</td>\n    </tr>\n    <tr>\n      <th>...</th>\n      <td>...</td>\n      <td>...</td>\n      <td>...</td>\n      <td>...</td>\n      <td>...</td>\n      <td>...</td>\n      <td>...</td>\n      <td>...</td>\n      <td>...</td>\n      <td>...</td>\n    </tr>\n    <tr>\n      <th>1953366</th>\n      <td>1464</td>\n      <td>sklearn.linear_model.SGDClassifier</td>\n      <td>181</td>\n      <td>75</td>\n      <td>4</td>\n      <td>4</td>\n      <td>0.0010</td>\n      <td>0.8011</td>\n      <td>0.7647</td>\n      <td>0.7600</td>\n    </tr>\n    <tr>\n      <th>1953367</th>\n      <td>1464</td>\n      <td>sklearn.linear_model.SGDClassifier</td>\n      <td>256</td>\n      <td>75</td>\n      <td>4</td>\n      <td>4</td>\n      <td>0.0012</td>\n      <td>0.7734</td>\n      <td>0.7647</td>\n      <td>0.7600</td>\n    </tr>\n    <tr>\n      <th>1953368</th>\n      <td>1464</td>\n      <td>sklearn.linear_model.SGDClassifier</td>\n      <td>362</td>\n      <td>75</td>\n      <td>4</td>\n      <td>4</td>\n      <td>0.0015</td>\n      <td>0.7735</td>\n      <td>0.7647</td>\n      <td>0.7600</td>\n    </tr>\n    <tr>\n      <th>1953369</th>\n      <td>1464</td>\n      <td>sklearn.linear_model.SGDClassifier</td>\n      <td>512</td>\n      <td>75</td>\n      <td>4</td>\n      <td>4</td>\n      <td>0.0018</td>\n      <td>0.4395</td>\n      <td>0.3676</td>\n      <td>0.4533</td>\n    </tr>\n    <tr>\n      <th>1953370</th>\n      <td>1464</td>\n      <td>sklearn.linear_model.SGDClassifier</td>\n      <td>605</td>\n      <td>75</td>\n      <td>4</td>\n      <td>4</td>\n      <td>0.0021</td>\n      <td>0.7620</td>\n      <td>0.7647</td>\n      <td>0.7600</td>\n    </tr>\n  </tbody>\n</table>\n<p>1953371 rows × 10 columns</p>\n</div>"
     },
     "execution_count": 2,
     "metadata": {},
     "output_type": "execute_result"
    }
   ],
   "source": [
    "curves = lcdb.get_all_curves()\n",
    "curves"
   ]
  },
  {
   "cell_type": "code",
   "execution_count": 3,
   "id": "828beb7f-9c4d-4513-8f7f-8a8334e4aebf",
   "metadata": {
    "ExecuteTime": {
     "end_time": "2024-02-23T07:04:09.778431156Z",
     "start_time": "2024-02-23T07:04:09.772240585Z"
    }
   },
   "outputs": [
    {
     "data": {
      "text/plain": "         openmlid                             learner  size_train  size_test  \\\n0              44                          SVC_linear          16        461   \n1              44                          SVC_linear          23        461   \n2              44                          SVC_linear          32        461   \n3              44                          SVC_linear          45        461   \n4              44                          SVC_linear          64        461   \n...           ...                                 ...         ...        ...   \n1953366      1464  sklearn.linear_model.SGDClassifier         181         75   \n1953367      1464  sklearn.linear_model.SGDClassifier         256         75   \n1953368      1464  sklearn.linear_model.SGDClassifier         362         75   \n1953369      1464  sklearn.linear_model.SGDClassifier         512         75   \n1953370      1464  sklearn.linear_model.SGDClassifier         605         75   \n\n         outer_seed  inner_seed  traintime  score_train  score_valid  \\\n0                 0           0     0.0024       0.8750       0.7440   \n1                 0           0     0.0014       0.9565       0.7222   \n2                 0           0     0.0017       0.9375       0.7295   \n3                 0           0     0.0023       0.9778       0.8237   \n4                 0           0     0.0033       0.7812       0.6280   \n...             ...         ...        ...          ...          ...   \n1953366           4           4     0.0010       0.8011       0.7647   \n1953367           4           4     0.0012       0.7734       0.7647   \n1953368           4           4     0.0015       0.7735       0.7647   \n1953369           4           4     0.0018       0.4395       0.3676   \n1953370           4           4     0.0021       0.7620       0.7647   \n\n         score_test  \n0            0.7072  \n1            0.6876  \n2            0.7180  \n3            0.8048  \n4            0.6508  \n...             ...  \n1953366      0.7600  \n1953367      0.7600  \n1953368      0.7600  \n1953369      0.4533  \n1953370      0.7600  \n\n[1953371 rows x 10 columns]",
      "text/html": "<div>\n<style scoped>\n    .dataframe tbody tr th:only-of-type {\n        vertical-align: middle;\n    }\n\n    .dataframe tbody tr th {\n        vertical-align: top;\n    }\n\n    .dataframe thead th {\n        text-align: right;\n    }\n</style>\n<table border=\"1\" class=\"dataframe\">\n  <thead>\n    <tr style=\"text-align: right;\">\n      <th></th>\n      <th>openmlid</th>\n      <th>learner</th>\n      <th>size_train</th>\n      <th>size_test</th>\n      <th>outer_seed</th>\n      <th>inner_seed</th>\n      <th>traintime</th>\n      <th>score_train</th>\n      <th>score_valid</th>\n      <th>score_test</th>\n    </tr>\n  </thead>\n  <tbody>\n    <tr>\n      <th>0</th>\n      <td>44</td>\n      <td>SVC_linear</td>\n      <td>16</td>\n      <td>461</td>\n      <td>0</td>\n      <td>0</td>\n      <td>0.0024</td>\n      <td>0.8750</td>\n      <td>0.7440</td>\n      <td>0.7072</td>\n    </tr>\n    <tr>\n      <th>1</th>\n      <td>44</td>\n      <td>SVC_linear</td>\n      <td>23</td>\n      <td>461</td>\n      <td>0</td>\n      <td>0</td>\n      <td>0.0014</td>\n      <td>0.9565</td>\n      <td>0.7222</td>\n      <td>0.6876</td>\n    </tr>\n    <tr>\n      <th>2</th>\n      <td>44</td>\n      <td>SVC_linear</td>\n      <td>32</td>\n      <td>461</td>\n      <td>0</td>\n      <td>0</td>\n      <td>0.0017</td>\n      <td>0.9375</td>\n      <td>0.7295</td>\n      <td>0.7180</td>\n    </tr>\n    <tr>\n      <th>3</th>\n      <td>44</td>\n      <td>SVC_linear</td>\n      <td>45</td>\n      <td>461</td>\n      <td>0</td>\n      <td>0</td>\n      <td>0.0023</td>\n      <td>0.9778</td>\n      <td>0.8237</td>\n      <td>0.8048</td>\n    </tr>\n    <tr>\n      <th>4</th>\n      <td>44</td>\n      <td>SVC_linear</td>\n      <td>64</td>\n      <td>461</td>\n      <td>0</td>\n      <td>0</td>\n      <td>0.0033</td>\n      <td>0.7812</td>\n      <td>0.6280</td>\n      <td>0.6508</td>\n    </tr>\n    <tr>\n      <th>...</th>\n      <td>...</td>\n      <td>...</td>\n      <td>...</td>\n      <td>...</td>\n      <td>...</td>\n      <td>...</td>\n      <td>...</td>\n      <td>...</td>\n      <td>...</td>\n      <td>...</td>\n    </tr>\n    <tr>\n      <th>1953366</th>\n      <td>1464</td>\n      <td>sklearn.linear_model.SGDClassifier</td>\n      <td>181</td>\n      <td>75</td>\n      <td>4</td>\n      <td>4</td>\n      <td>0.0010</td>\n      <td>0.8011</td>\n      <td>0.7647</td>\n      <td>0.7600</td>\n    </tr>\n    <tr>\n      <th>1953367</th>\n      <td>1464</td>\n      <td>sklearn.linear_model.SGDClassifier</td>\n      <td>256</td>\n      <td>75</td>\n      <td>4</td>\n      <td>4</td>\n      <td>0.0012</td>\n      <td>0.7734</td>\n      <td>0.7647</td>\n      <td>0.7600</td>\n    </tr>\n    <tr>\n      <th>1953368</th>\n      <td>1464</td>\n      <td>sklearn.linear_model.SGDClassifier</td>\n      <td>362</td>\n      <td>75</td>\n      <td>4</td>\n      <td>4</td>\n      <td>0.0015</td>\n      <td>0.7735</td>\n      <td>0.7647</td>\n      <td>0.7600</td>\n    </tr>\n    <tr>\n      <th>1953369</th>\n      <td>1464</td>\n      <td>sklearn.linear_model.SGDClassifier</td>\n      <td>512</td>\n      <td>75</td>\n      <td>4</td>\n      <td>4</td>\n      <td>0.0018</td>\n      <td>0.4395</td>\n      <td>0.3676</td>\n      <td>0.4533</td>\n    </tr>\n    <tr>\n      <th>1953370</th>\n      <td>1464</td>\n      <td>sklearn.linear_model.SGDClassifier</td>\n      <td>605</td>\n      <td>75</td>\n      <td>4</td>\n      <td>4</td>\n      <td>0.0021</td>\n      <td>0.7620</td>\n      <td>0.7647</td>\n      <td>0.7600</td>\n    </tr>\n  </tbody>\n</table>\n<p>1953371 rows × 10 columns</p>\n</div>"
     },
     "execution_count": 3,
     "metadata": {},
     "output_type": "execute_result"
    }
   ],
   "source": [
    "curves"
   ]
  },
  {
   "cell_type": "code",
   "execution_count": 76,
   "id": "e7c747bc-8b04-446b-aa29-52e4e95d8bde",
   "metadata": {
    "ExecuteTime": {
     "end_time": "2024-02-23T07:17:13.470876918Z",
     "start_time": "2024-02-23T07:17:13.426781115Z"
    }
   },
   "outputs": [],
   "source": [
    "import torch\n",
    "\n",
    "def vapor_pressure(x, a, b, c):\n",
    "    return torch.exp(a + b * x + c * torch.log(x + 1))\n",
    "\n",
    "def pow3(x, a, alpha, c):\n",
    "    return c - a * torch.pow(x, -alpha)\n",
    "\n",
    "def log_log_linear(x, a, b):\n",
    "    a = torch.clip(a, 1e-6)\n",
    "    b = torch.clip(b, 1e-6)\n",
    "    return torch.log(a * torch.log(x + 1) + b)\n",
    "\n",
    "def hill3(x, alpha, beta, kappa, delta):\n",
    "    kappa = torch.clip(kappa, 1e-6)\n",
    "    delta = torch.clip(delta, 1e-6)\n",
    "    return alpha - beta / (alpha - 1 + torch.pow(kappa * x, delta))\n",
    "\n",
    "def log_power(x, a, c):\n",
    "    return c - torch.pow(torch.log(x + 1), a)\n",
    "\n",
    "def pow4(x, a, b, alpha, c):\n",
    "    a = torch.clip(a, 1e-6)\n",
    "    b = torch.clip(b, 1e-6)\n",
    "    return c - torch.pow(a * x + b, -alpha)\n",
    "\n",
    "def mmf(x, alpha, beta, kappa, delta):\n",
    "    delta = torch.clip(delta, 1e-6)\n",
    "    kappa = torch.clip(kappa, 1e-6)\n",
    "    return alpha - beta / (alpha - 1 + torch.pow(kappa * x, delta))\n",
    "\n",
    "def exp4(x, a, b, c):\n",
    "    return c - torch.exp(-a * x + b)\n",
    "\n",
    "def janoschek(x, alpha, beta, kappa):\n",
    "    return alpha - (alpha - beta) * torch.exp(-kappa * x)\n",
    "\n",
    "def weibull(x, alpha, beta, kappa, delta):\n",
    "    delta = torch.clamp(delta, 1e-6)\n",
    "    kappa = torch.clip(kappa, 1e-6)\n",
    "    return alpha - (alpha - beta) * torch.exp(-torch.pow(kappa * x, delta))\n",
    "\n",
    "def ilog2(x, a, c):\n",
    "    return c - torch.pow(torch.log(x + 1), a)"
   ]
  },
  {
   "cell_type": "code",
   "execution_count": 141,
   "id": "c032accc-62c5-47ca-90f8-14a65bdb822c",
   "metadata": {
    "ExecuteTime": {
     "end_time": "2024-02-23T07:52:10.014725179Z",
     "start_time": "2024-02-23T07:52:09.974217331Z"
    }
   },
   "outputs": [],
   "source": [
    "model_dict = {\n",
    "    vapor_pressure: 3,\n",
    "    pow3: 3,\n",
    "    log_log_linear: 2,\n",
    "    hill3: 4,\n",
    "    log_power: 2,\n",
    "    pow4: 4,\n",
    "    mmf: 4,\n",
    "    exp4: 3,\n",
    "    janoschek: 3,\n",
    "    weibull: 4,\n",
    "    ilog2: 2\n",
    "}\n",
    "\n",
    "def combined(x, original_weights, theta):\n",
    "    x = x.reshape((x.shape[1], x.shape[0]))\n",
    "    y = torch.zeros_like(x)\n",
    "\n",
    "    start_idx = 0\n",
    "    for model, num_params in model_dict.items():\n",
    "        end_idx = start_idx + num_params\n",
    "        model_params = theta[:, start_idx:end_idx]\n",
    "        model_params = model_params.reshape((end_idx - start_idx, 1, -1))\n",
    "        model_params = model_params.repeat((1, x.shape[0], 1))\n",
    "        out = model(x, *model_params)\n",
    "        \n",
    "        weights = original_weights[:, list(model_dict.keys()).index(model)]\n",
    "        weights = weights.reshape((1, -1))\n",
    "        weights = weights.repeat((x.shape[0], 1))\n",
    "        \n",
    "        y += weights * out\n",
    "        \n",
    "        start_idx = end_idx\n",
    "\n",
    "    return y.reshape((x.shape[1], -1))\n",
    "\n",
    "def combined_single(x, original_weights, theta):\n",
    "    y = torch.zeros_like(x)\n",
    "\n",
    "    start_idx = 0\n",
    "    for model, num_params in model_dict.items():\n",
    "        end_idx = start_idx + num_params\n",
    "        model_params = theta[start_idx:end_idx]\n",
    "        out = model(x, *model_params)\n",
    "        if torch.isnan(out).any() or torch.isinf(out).any():\n",
    "            out = torch.ones_like(out)\n",
    "        weight = original_weights[list(model_dict.keys()).index(model)]\n",
    "        y += weight * out\n",
    "        start_idx = end_idx\n",
    "\n",
    "    return y"
   ]
  },
  {
   "cell_type": "code",
   "outputs": [],
   "source": [
    "import pyro\n",
    "import pyro.distributions as dist\n",
    "from pyro.infer import MCMC, NUTS\n",
    "import torch\n",
    "\n",
    "def model(ts, ys=None):\n",
    "    weights = pyro.sample(\"weights\", dist.Dirichlet(torch.ones(len(model_dict))))\n",
    "\n",
    "    n_thetas = sum(model_dict.values())\n",
    "    theta = pyro.sample(\"theta\", dist.Normal(0, 1).expand([n_thetas]).to_event(1))\n",
    "\n",
    "    std = pyro.sample(\"std\", dist.Exponential(0.5))\n",
    "\n",
    "    prediction = combined_single(ts, weights, theta)\n",
    "    with pyro.plate(\"data\", ts.shape[0]):\n",
    "        pyro.sample(\"obs\", dist.Normal(prediction, std), obs=ys)\n",
    "    \n"
   ],
   "metadata": {
    "collapsed": false,
    "ExecuteTime": {
     "end_time": "2024-02-23T07:52:10.247182506Z",
     "start_time": "2024-02-23T07:52:10.242535834Z"
    }
   },
   "id": "701818d5be3d9865",
   "execution_count": 142
  },
  {
   "cell_type": "code",
   "outputs": [],
   "source": [
    "import lcdb\n",
    "curve = lcdb.get_curve(3, \"sklearn.linear_model.LogisticRegression\")\n",
    "anchors, scores_train, scores_valid, scores_test = curve\n",
    "\n",
    "x_train = torch.Tensor(anchors)[:-3]\n",
    "y_train = torch.Tensor(scores_test)[:, 0][:-3]\n",
    "\n",
    "x_test = torch.Tensor(anchors)[-3:]\n",
    "y_test = torch.Tensor(scores_test)[:, 0][-3:]"
   ],
   "metadata": {
    "ExecuteTime": {
     "end_time": "2024-02-23T07:52:12.251359888Z",
     "start_time": "2024-02-23T07:52:10.671004443Z"
    }
   },
   "id": "6b1706fe-2f69-4b7c-a3d8-eac2cdc17d51",
   "execution_count": 143
  },
  {
   "cell_type": "code",
   "outputs": [
    {
     "name": "stdout",
     "output_type": "stream",
     "text": [
      "tensor([1448., 2048., 2588.]) tensor([0.9719, 0.9750, 0.9781])\n"
     ]
    }
   ],
   "source": [
    "print(x_test, y_test)"
   ],
   "metadata": {
    "collapsed": false,
    "ExecuteTime": {
     "end_time": "2024-02-23T07:52:12.251873770Z",
     "start_time": "2024-02-23T07:52:12.244360535Z"
    }
   },
   "id": "91fa1dd87ebb4260",
   "execution_count": 144
  },
  {
   "cell_type": "code",
   "outputs": [
    {
     "name": "stdout",
     "output_type": "stream",
     "text": [
      "Step 1999: Loss = 0.020806046202778816\n",
      "Step 3999: Loss = 0.001298145274631679\n",
      "Step 5999: Loss = 0.0011624121107161045\n",
      "Step 7999: Loss = 0.0011244491906836629\n",
      "Step 9999: Loss = 0.0010911277495324612\n"
     ]
    }
   ],
   "source": [
    "from torch import optim\n",
    "initial_weights = torch.ones(len(model_dict)) / len(model_dict)  # evenly distributed initial weights\n",
    "initial_std = torch.tensor(0.5)  # initial standard deviation for prediction\n",
    "\n",
    "def loss_fn(model_output, target):\n",
    "    return torch.mean((model_output - target)**2)\n",
    "\n",
    "n_thetas = sum(model_dict.values())\n",
    "initial_theta = torch.randn(n_thetas, requires_grad=True)  # Random initializatio\n",
    "while loss_fn(combined_single(x_train, initial_weights, initial_theta), y_train) > len(y_train):\n",
    "    initial_theta = torch.randn(n_thetas, requires_grad=True)  # Random initializatio\n",
    "\n",
    "# Optimizer\n",
    "optimizer = optim.Adam([initial_theta], lr=1e-4)\n",
    "\n",
    "# Optimization loop\n",
    "num_steps = 6000  # Number of optimization steps\n",
    "for step in range(num_steps):\n",
    "    optimizer.zero_grad()\n",
    "    model_output = combined_single(x_train, initial_weights, initial_theta)\n",
    "    loss = loss_fn(model_output, y_train)\n",
    "    loss.backward()\n",
    "    optimizer.step()\n",
    "    if step % 2000 == 1999:\n",
    "        print(f\"Step {step}: Loss = {loss.item()}\")\n",
    "\n",
    "initial_theta = initial_theta.detach()"
   ],
   "metadata": {
    "collapsed": false,
    "ExecuteTime": {
     "end_time": "2024-02-23T07:52:28.402447130Z",
     "start_time": "2024-02-23T07:52:12.250416595Z"
    }
   },
   "id": "85427e937d7412f7",
   "execution_count": 145
  },
  {
   "cell_type": "code",
   "outputs": [],
   "source": [
    "initial_params = {\n",
    "    \"weights\": torch.ones(10) / 10,\n",
    "    \"theta\": initial_theta,\n",
    "    \"std\": initial_std\n",
    "}"
   ],
   "metadata": {
    "collapsed": false,
    "ExecuteTime": {
     "end_time": "2024-02-23T07:52:28.402840421Z",
     "start_time": "2024-02-23T07:52:28.397763450Z"
    }
   },
   "id": "85972a2bf0f1ac04",
   "execution_count": 146
  },
  {
   "cell_type": "code",
   "outputs": [
    {
     "name": "stderr",
     "output_type": "stream",
     "text": [
      "Sample: 100%|██████████| 200/200 [06:19,  1.90s/it, step size=4.49e-04, acc. prob=0.775]\n"
     ]
    }
   ],
   "source": [
    "nuts_kernel = NUTS(model)\n",
    "mcmc = MCMC(nuts_kernel, num_samples=100, warmup_steps=100, initial_params=initial_params)\n",
    "mcmc.run(x_train, y_train)"
   ],
   "metadata": {
    "collapsed": false,
    "ExecuteTime": {
     "end_time": "2024-02-23T07:58:48.155952171Z",
     "start_time": "2024-02-23T07:52:28.399756790Z"
    }
   },
   "id": "b0b90db098e9a83c",
   "execution_count": 147
  },
  {
   "cell_type": "code",
   "outputs": [
    {
     "data": {
      "text/plain": "{'std': tensor([0.0359, 0.0367, 0.0329, 0.0264, 0.0258, 0.0259, 0.0265, 0.0254, 0.0253,\n         0.0195, 0.0201, 0.0205, 0.0208, 0.0192, 0.0217, 0.0178, 0.0177, 0.0180,\n         0.0179, 0.0177, 0.0177, 0.0174, 0.0174, 0.0168, 0.0169, 0.0174, 0.0174,\n         0.0174, 0.0174, 0.0174, 0.0175, 0.0175, 0.0175, 0.0175, 0.0172, 0.0174,\n         0.0174, 0.0174, 0.0174, 0.0181, 0.0178, 0.0185, 0.0188, 0.0227, 0.0200,\n         0.0201, 0.0207, 0.0191, 0.0212, 0.0197, 0.0210, 0.0183, 0.0200, 0.0167,\n         0.0183, 0.0179, 0.0169, 0.0165, 0.0185, 0.0197, 0.0205, 0.0185, 0.0188,\n         0.0149, 0.0154, 0.0158, 0.0191, 0.0164, 0.0154, 0.0162, 0.0218, 0.0224,\n         0.0230, 0.0227, 0.0301, 0.0264, 0.0263, 0.0240, 0.0211, 0.0196, 0.0191,\n         0.0206, 0.0209, 0.0201, 0.0215, 0.0212, 0.0202, 0.0180, 0.0169, 0.0160,\n         0.0186, 0.0206, 0.0158, 0.0121, 0.0140, 0.0167, 0.0160, 0.0162, 0.0177,\n         0.0160]),\n 'theta': tensor([[ 0.7958, -1.5066, -0.2617,  ..., -0.1468, -0.5020, -0.1369],\n         [ 0.8105, -1.4914, -0.2632,  ..., -0.1547, -0.4779, -0.1397],\n         [ 0.8415, -1.2608, -0.3227,  ..., -0.1003, -0.4386, -0.1897],\n         ...,\n         [ 0.8219, -1.6272, -0.2198,  ...,  0.5063, -1.2264,  0.0765],\n         [ 0.7387, -1.5581, -0.3759,  ...,  0.4892, -1.2634,  0.0900],\n         [ 0.7164, -1.4140, -0.4630,  ...,  0.5377, -1.3228,  0.1713]]),\n 'weights': tensor([[0.0414, 0.2051, 0.2363,  ..., 0.0126, 0.0040, 0.1039],\n         [0.0420, 0.2010, 0.2356,  ..., 0.0127, 0.0040, 0.1051],\n         [0.0430, 0.2031, 0.2330,  ..., 0.0106, 0.0055, 0.0859],\n         ...,\n         [0.1165, 0.1814, 0.2400,  ..., 0.0421, 0.0273, 0.1088],\n         [0.1191, 0.2062, 0.2515,  ..., 0.0442, 0.0297, 0.0880],\n         [0.1236, 0.2029, 0.2169,  ..., 0.0480, 0.0305, 0.1166]])}"
     },
     "execution_count": 148,
     "metadata": {},
     "output_type": "execute_result"
    }
   ],
   "source": [
    "mcmc.get_samples()"
   ],
   "metadata": {
    "collapsed": false,
    "ExecuteTime": {
     "end_time": "2024-02-23T08:00:27.177873357Z",
     "start_time": "2024-02-23T08:00:27.136167601Z"
    }
   },
   "id": "5467e9a14969738",
   "execution_count": 148
  },
  {
   "cell_type": "code",
   "execution_count": 159,
   "id": "67665372-020f-4b2a-aeb3-33322fdc630a",
   "metadata": {
    "ExecuteTime": {
     "end_time": "2024-02-23T08:10:40.083896173Z",
     "start_time": "2024-02-23T08:10:40.041889027Z"
    }
   },
   "outputs": [
    {
     "data": {
      "text/plain": "{'std': tensor([0.0359, 0.0367, 0.0329, 0.0264, 0.0258, 0.0259, 0.0265, 0.0254, 0.0253,\n         0.0195, 0.0201, 0.0205, 0.0208, 0.0192, 0.0217, 0.0178, 0.0177, 0.0180,\n         0.0179, 0.0177, 0.0177, 0.0174, 0.0174, 0.0168, 0.0169, 0.0174, 0.0174,\n         0.0174, 0.0174, 0.0174, 0.0175, 0.0175, 0.0175, 0.0175, 0.0172, 0.0174,\n         0.0174, 0.0174, 0.0174, 0.0181, 0.0178, 0.0185, 0.0188, 0.0227, 0.0200,\n         0.0201, 0.0207, 0.0191, 0.0212, 0.0197, 0.0210, 0.0183, 0.0200, 0.0167,\n         0.0183, 0.0179, 0.0169, 0.0165, 0.0185, 0.0197, 0.0205, 0.0185, 0.0188,\n         0.0149, 0.0154, 0.0158, 0.0191, 0.0164, 0.0154, 0.0162, 0.0218, 0.0224,\n         0.0230, 0.0227, 0.0301, 0.0264, 0.0263, 0.0240, 0.0211, 0.0196, 0.0191,\n         0.0206, 0.0209, 0.0201, 0.0215, 0.0212, 0.0202, 0.0180, 0.0169, 0.0160,\n         0.0186, 0.0206, 0.0158, 0.0121, 0.0140, 0.0167, 0.0160, 0.0162, 0.0177,\n         0.0160]),\n 'theta': tensor([[ 0.7958, -1.5066, -0.2617,  ..., -0.1468, -0.5020, -0.1369],\n         [ 0.8105, -1.4914, -0.2632,  ..., -0.1547, -0.4779, -0.1397],\n         [ 0.8415, -1.2608, -0.3227,  ..., -0.1003, -0.4386, -0.1897],\n         ...,\n         [ 0.8219, -1.6272, -0.2198,  ...,  0.5063, -1.2264,  0.0765],\n         [ 0.7387, -1.5581, -0.3759,  ...,  0.4892, -1.2634,  0.0900],\n         [ 0.7164, -1.4140, -0.4630,  ...,  0.5377, -1.3228,  0.1713]]),\n 'weights': tensor([[0.0414, 0.2051, 0.2363,  ..., 0.0126, 0.0040, 0.1039],\n         [0.0420, 0.2010, 0.2356,  ..., 0.0127, 0.0040, 0.1051],\n         [0.0430, 0.2031, 0.2330,  ..., 0.0106, 0.0055, 0.0859],\n         ...,\n         [0.1165, 0.1814, 0.2400,  ..., 0.0421, 0.0273, 0.1088],\n         [0.1191, 0.2062, 0.2515,  ..., 0.0442, 0.0297, 0.0880],\n         [0.1236, 0.2029, 0.2169,  ..., 0.0480, 0.0305, 0.1166]])}"
     },
     "execution_count": 159,
     "metadata": {},
     "output_type": "execute_result"
    }
   ],
   "source": [
    "samples = mcmc.get_samples()\n",
    "samples"
   ]
  },
  {
   "cell_type": "code",
   "execution_count": 161,
   "id": "8ef2de12-4cd7-48d3-bb01-7cb5ad62350a",
   "metadata": {
    "ExecuteTime": {
     "end_time": "2024-02-23T08:11:15.801255317Z",
     "start_time": "2024-02-23T08:11:15.380700422Z"
    }
   },
   "outputs": [
    {
     "name": "stdout",
     "output_type": "stream",
     "text": [
      "tensor([  16.,   23.,   32.,   45.,   64.,   91.,  128.,  181.,  256.,  362.,\n",
      "         512.,  724., 1024.]) tensor([0.6453, 0.7195, 0.7713, 0.8127, 0.8455, 0.8707, 0.8894, 0.9041, 0.9155,\n",
      "        0.9242, 0.9309, 0.9362, 0.9402])\n",
      "tensor([  16.,   23.,   32.,   45.,   64.,   91.,  128.,  181.,  256.,  362.,\n",
      "         512.,  724., 1024.]) tensor([0.6778, 0.7496, 0.8000, 0.8405, 0.8727, 0.8975, 0.9161, 0.9307, 0.9420,\n",
      "        0.9508, 0.9576, 0.9629, 0.9671])\n",
      "tensor([  16.,   23.,   32.,   45.,   64.,   91.,  128.,  181.,  256.,  362.,\n",
      "         512.,  724., 1024.]) tensor([0.6396, 0.7367, 0.7993, 0.8455, 0.8794, 0.9033, 0.9198, 0.9317, 0.9403,\n",
      "        0.9464, 0.9507, 0.9539, 0.9562])\n",
      "tensor([  16.,   23.,   32.,   45.,   64.,   91.,  128.,  181.,  256.,  362.,\n",
      "         512.,  724., 1024.]) tensor([0.6638, 0.7437, 0.7983, 0.8411, 0.8745, 0.8995, 0.9179, 0.9321, 0.9430,\n",
      "        0.9512, 0.9576, 0.9626, 0.9664])\n",
      "tensor([  16.,   23.,   32.,   45.,   64.,   91.,  128.,  181.,  256.,  362.,\n",
      "         512.,  724., 1024.]) tensor([0.6101, 0.7075, 0.7738, 0.8255, 0.8656, 0.8955, 0.9172, 0.9339, 0.9465,\n",
      "        0.9560, 0.9632, 0.9687, 0.9729])\n",
      "tensor([  16.,   23.,   32.,   45.,   64.,   91.,  128.,  181.,  256.,  362.,\n",
      "         512.,  724., 1024.]) tensor([0.6670, 0.7467, 0.8010, 0.8434, 0.8763, 0.9010, 0.9189, 0.9327, 0.9432,\n",
      "        0.9511, 0.9571, 0.9617, 0.9653])\n",
      "tensor([  16.,   23.,   32.,   45.,   64.,   91.,  128.,  181.,  256.,  362.,\n",
      "         512.,  724., 1024.]) tensor([0.6149, 0.7114, 0.7769, 0.8279, 0.8672, 0.8965, 0.9178, 0.9340, 0.9462,\n",
      "        0.9554, 0.9623, 0.9676, 0.9716])\n",
      "tensor([  16.,   23.,   32.,   45.,   64.,   91.,  128.,  181.,  256.,  362.,\n",
      "         512.,  724., 1024.]) tensor([0.6270, 0.7143, 0.7738, 0.8205, 0.8570, 0.8845, 0.9048, 0.9206, 0.9327,\n",
      "        0.9422, 0.9496, 0.9554, 0.9601])\n",
      "tensor([  16.,   23.,   32.,   45.,   64.,   91.,  128.,  181.,  256.,  362.,\n",
      "         512.,  724., 1024.]) tensor([0.6278, 0.7224, 0.7873, 0.8385, 0.8786, 0.9089, 0.9315, 0.9491, 0.9627,\n",
      "        0.9733, 0.9817, 0.9883, 0.9937])\n",
      "tensor([  16.,   23.,   32.,   45.,   64.,   91.,  128.,  181.,  256.,  362.,\n",
      "         512.,  724., 1024.]) tensor([0.6578, 0.7309, 0.7822, 0.8237, 0.8571, 0.8831, 0.9029, 0.9189, 0.9316,\n",
      "        0.9418, 0.9500, 0.9568, 0.9624])\n",
      "tensor([  16.,   23.,   32.,   45.,   64.,   91.,  128.,  181.,  256.,  362.,\n",
      "         512.,  724., 1024.]) tensor([0.6232, 0.7142, 0.7780, 0.8292, 0.8703, 0.9021, 0.9262, 0.9455, 0.9607,\n",
      "        0.9729, 0.9826, 0.9905, 0.9970])\n",
      "tensor([  16.,   23.,   32.,   45.,   64.,   91.,  128.,  181.,  256.,  362.,\n",
      "         512.,  724., 1024.]) tensor([0.6602, 0.7339, 0.7861, 0.8285, 0.8627, 0.8895, 0.9100, 0.9266, 0.9398,\n",
      "        0.9505, 0.9591, 0.9662, 0.9720])\n",
      "tensor([  16.,   23.,   32.,   45.,   64.,   91.,  128.,  181.,  256.,  362.,\n",
      "         512.,  724., 1024.]) tensor([0.6293, 0.7150, 0.7756, 0.8246, 0.8640, 0.8948, 0.9182, 0.9370, 0.9520,\n",
      "        0.9640, 0.9736, 0.9815, 0.9879])\n",
      "tensor([  16.,   23.,   32.,   45.,   64.,   91.,  128.,  181.,  256.,  362.,\n",
      "         512.,  724., 1024.]) tensor([0.6382, 0.7215, 0.7796, 0.8262, 0.8634, 0.8921, 0.9138, 0.9312, 0.9449,\n",
      "        0.9558, 0.9646, 0.9718, 0.9777])\n",
      "tensor([  16.,   23.,   32.,   45.,   64.,   91.,  128.,  181.,  256.,  362.,\n",
      "         512.,  724., 1024.]) tensor([0.6399, 0.7245, 0.7831, 0.8296, 0.8664, 0.8946, 0.9157, 0.9324, 0.9455,\n",
      "        0.9559, 0.9641, 0.9708, 0.9762])\n",
      "tensor([  16.,   23.,   32.,   45.,   64.,   91.,  128.,  181.,  256.,  362.,\n",
      "         512.,  724., 1024.]) tensor([0.6552, 0.7275, 0.7796, 0.8227, 0.8581, 0.8864, 0.9085, 0.9266, 0.9414,\n",
      "        0.9535, 0.9635, 0.9719, 0.9788])\n",
      "tensor([  16.,   23.,   32.,   45.,   64.,   91.,  128.,  181.,  256.,  362.,\n",
      "         512.,  724., 1024.]) tensor([0.6568, 0.7300, 0.7827, 0.8262, 0.8621, 0.8907, 0.9130, 0.9314, 0.9463,\n",
      "        0.9585, 0.9686, 0.9770, 0.9841])\n",
      "tensor([  16.,   23.,   32.,   45.,   64.,   91.,  128.,  181.,  256.,  362.,\n",
      "         512.,  724., 1024.]) tensor([0.6506, 0.7221, 0.7738, 0.8167, 0.8521, 0.8805, 0.9028, 0.9211, 0.9362,\n",
      "        0.9485, 0.9588, 0.9673, 0.9746])\n",
      "tensor([  16.,   23.,   32.,   45.,   64.,   91.,  128.,  181.,  256.,  362.,\n",
      "         512.,  724., 1024.]) tensor([0.6454, 0.7181, 0.7707, 0.8143, 0.8504, 0.8793, 0.9019, 0.9206, 0.9359,\n",
      "        0.9484, 0.9588, 0.9675, 0.9748])\n",
      "tensor([  16.,   23.,   32.,   45.,   64.,   91.,  128.,  181.,  256.,  362.,\n",
      "         512.,  724., 1024.]) tensor([0.6494, 0.7244, 0.7787, 0.8237, 0.8611, 0.8910, 0.9144, 0.9337, 0.9496,\n",
      "        0.9626, 0.9733, 0.9823, 0.9899])\n",
      "tensor([  16.,   23.,   32.,   45.,   64.,   91.,  128.,  181.,  256.,  362.,\n",
      "         512.,  724., 1024.]) tensor([0.6559, 0.7290, 0.7820, 0.8260, 0.8624, 0.8916, 0.9145, 0.9335, 0.9490,\n",
      "        0.9617, 0.9723, 0.9812, 0.9886])\n",
      "tensor([  16.,   23.,   32.,   45.,   64.,   91.,  128.,  181.,  256.,  362.,\n",
      "         512.,  724., 1024.]) tensor([0.6472, 0.7198, 0.7728, 0.8170, 0.8537, 0.8833, 0.9066, 0.9260, 0.9419,\n",
      "        0.9550, 0.9659, 0.9750, 0.9827])\n",
      "tensor([  16.,   23.,   32.,   45.,   64.,   91.,  128.,  181.,  256.,  362.,\n",
      "         512.,  724., 1024.]) tensor([0.6472, 0.7198, 0.7728, 0.8170, 0.8537, 0.8833, 0.9066, 0.9260, 0.9419,\n",
      "        0.9550, 0.9659, 0.9750, 0.9827])\n",
      "tensor([  16.,   23.,   32.,   45.,   64.,   91.,  128.,  181.,  256.,  362.,\n",
      "         512.,  724., 1024.]) tensor([0.6745, 0.7421, 0.7912, 0.8322, 0.8663, 0.8936, 0.9152, 0.9330, 0.9476,\n",
      "        0.9597, 0.9697, 0.9781, 0.9851])\n",
      "tensor([  16.,   23.,   32.,   45.,   64.,   91.,  128.,  181.,  256.,  362.,\n",
      "         512.,  724., 1024.]) tensor([0.6417, 0.7167, 0.7712, 0.8166, 0.8544, 0.8848, 0.9086, 0.9284, 0.9445,\n",
      "        0.9578, 0.9688, 0.9780, 0.9857])\n",
      "tensor([  16.,   23.,   32.,   45.,   64.,   91.,  128.,  181.,  256.,  362.,\n",
      "         512.,  724., 1024.]) tensor([0.6719, 0.7397, 0.7892, 0.8306, 0.8651, 0.8930, 0.9150, 0.9333, 0.9483,\n",
      "        0.9608, 0.9711, 0.9798, 0.9871])\n",
      "tensor([  16.,   23.,   32.,   45.,   64.,   91.,  128.,  181.,  256.,  362.,\n",
      "         512.,  724., 1024.]) tensor([0.6473, 0.7204, 0.7737, 0.8182, 0.8553, 0.8852, 0.9088, 0.9283, 0.9443,\n",
      "        0.9575, 0.9685, 0.9776, 0.9853])\n",
      "tensor([  16.,   23.,   32.,   45.,   64.,   91.,  128.,  181.,  256.,  362.,\n",
      "         512.,  724., 1024.]) tensor([0.6473, 0.7204, 0.7737, 0.8182, 0.8553, 0.8852, 0.9088, 0.9283, 0.9443,\n",
      "        0.9575, 0.9685, 0.9776, 0.9853])\n",
      "tensor([  16.,   23.,   32.,   45.,   64.,   91.,  128.,  181.,  256.,  362.,\n",
      "         512.,  724., 1024.]) tensor([0.6567, 0.7268, 0.7779, 0.8207, 0.8563, 0.8851, 0.9078, 0.9267, 0.9422,\n",
      "        0.9550, 0.9656, 0.9745, 0.9820])\n",
      "tensor([  16.,   23.,   32.,   45.,   64.,   91.,  128.,  181.,  256.,  362.,\n",
      "         512.,  724., 1024.]) tensor([0.6605, 0.7287, 0.7786, 0.8204, 0.8553, 0.8835, 0.9057, 0.9243, 0.9395,\n",
      "        0.9521, 0.9627, 0.9715, 0.9789])\n",
      "tensor([  16.,   23.,   32.,   45.,   64.,   91.,  128.,  181.,  256.,  362.,\n",
      "         512.,  724., 1024.]) tensor([0.6432, 0.7164, 0.7698, 0.8146, 0.8519, 0.8821, 0.9058, 0.9256, 0.9418,\n",
      "        0.9552, 0.9663, 0.9756, 0.9834])\n",
      "tensor([  16.,   23.,   32.,   45.,   64.,   91.,  128.,  181.,  256.,  362.,\n",
      "         512.,  724., 1024.]) tensor([0.6547, 0.7239, 0.7745, 0.8169, 0.8523, 0.8810, 0.9036, 0.9224, 0.9379,\n",
      "        0.9508, 0.9614, 0.9704, 0.9780])\n",
      "tensor([  16.,   23.,   32.,   45.,   64.,   91.,  128.,  181.,  256.,  362.,\n",
      "         512.,  724., 1024.]) tensor([0.6594, 0.7266, 0.7759, 0.8172, 0.8518, 0.8797, 0.9019, 0.9203, 0.9356,\n",
      "        0.9482, 0.9587, 0.9675, 0.9750])\n",
      "tensor([  16.,   23.,   32.,   45.,   64.,   91.,  128.,  181.,  256.,  362.,\n",
      "         512.,  724., 1024.]) tensor([0.6572, 0.7255, 0.7755, 0.8175, 0.8525, 0.8809, 0.9033, 0.9220, 0.9374,\n",
      "        0.9502, 0.9608, 0.9697, 0.9772])\n",
      "tensor([  16.,   23.,   32.,   45.,   64.,   91.,  128.,  181.,  256.,  362.,\n",
      "         512.,  724., 1024.]) tensor([0.6494, 0.7213, 0.7737, 0.8174, 0.8537, 0.8829, 0.9059, 0.9249, 0.9405,\n",
      "        0.9534, 0.9640, 0.9729, 0.9804])\n",
      "tensor([  16.,   23.,   32.,   45.,   64.,   91.,  128.,  181.,  256.,  362.,\n",
      "         512.,  724., 1024.]) tensor([0.6382, 0.7152, 0.7711, 0.8177, 0.8564, 0.8875, 0.9118, 0.9320, 0.9485,\n",
      "        0.9620, 0.9732, 0.9826, 0.9904])\n",
      "tensor([  16.,   23.,   32.,   45.,   64.,   91.,  128.,  181.,  256.,  362.,\n",
      "         512.,  724., 1024.]) tensor([0.6382, 0.7152, 0.7711, 0.8177, 0.8564, 0.8875, 0.9118, 0.9320, 0.9485,\n",
      "        0.9620, 0.9732, 0.9826, 0.9904])\n",
      "tensor([  16.,   23.,   32.,   45.,   64.,   91.,  128.,  181.,  256.,  362.,\n",
      "         512.,  724., 1024.]) tensor([0.6513, 0.7226, 0.7745, 0.8178, 0.8538, 0.8828, 0.9057, 0.9246, 0.9401,\n",
      "        0.9529, 0.9635, 0.9723, 0.9798])\n",
      "tensor([  16.,   23.,   32.,   45.,   64.,   91.,  128.,  181.,  256.,  362.,\n",
      "         512.,  724., 1024.]) tensor([0.6278, 0.7070, 0.7646, 0.8124, 0.8520, 0.8837, 0.9086, 0.9290, 0.9458,\n",
      "        0.9594, 0.9707, 0.9801, 0.9879])\n",
      "tensor([  16.,   23.,   32.,   45.,   64.,   91.,  128.,  181.,  256.,  362.,\n",
      "         512.,  724., 1024.]) tensor([0.6504, 0.7212, 0.7724, 0.8147, 0.8496, 0.8774, 0.8992, 0.9171, 0.9317,\n",
      "        0.9436, 0.9535, 0.9617, 0.9686])\n",
      "tensor([  16.,   23.,   32.,   45.,   64.,   91.,  128.,  181.,  256.,  362.,\n",
      "         512.,  724., 1024.]) tensor([0.6568, 0.7325, 0.7871, 0.8322, 0.8694, 0.8991, 0.9222, 0.9412, 0.9566,\n",
      "        0.9692, 0.9796, 0.9882, 0.9955])\n",
      "tensor([  16.,   23.,   32.,   45.,   64.,   91.,  128.,  181.,  256.,  362.,\n",
      "         512.,  724., 1024.]) tensor([0.6394, 0.7173, 0.7732, 0.8190, 0.8566, 0.8864, 0.9095, 0.9284, 0.9436,\n",
      "        0.9561, 0.9664, 0.9748, 0.9819])\n",
      "tensor([  16.,   23.,   32.,   45.,   64.,   91.,  128.,  181.,  256.,  362.,\n",
      "         512.,  724., 1024.]) tensor([0.6414, 0.7258, 0.7842, 0.8307, 0.8676, 0.8960, 0.9174, 0.9344, 0.9479,\n",
      "        0.9587, 0.9674, 0.9746, 0.9805])\n",
      "tensor([  16.,   23.,   32.,   45.,   64.,   91.,  128.,  181.,  256.,  362.,\n",
      "         512.,  724., 1024.]) tensor([0.6343, 0.7234, 0.7827, 0.8282, 0.8631, 0.8892, 0.9084, 0.9235, 0.9353,\n",
      "        0.9447, 0.9524, 0.9587, 0.9641])\n",
      "tensor([  16.,   23.,   32.,   45.,   64.,   91.,  128.,  181.,  256.,  362.,\n",
      "         512.,  724., 1024.]) tensor([0.6226, 0.7248, 0.7916, 0.8419, 0.8799, 0.9077, 0.9277, 0.9432, 0.9551,\n",
      "        0.9645, 0.9720, 0.9781, 0.9833])\n",
      "tensor([  16.,   23.,   32.,   45.,   64.,   91.,  128.,  181.,  256.,  362.,\n",
      "         512.,  724., 1024.]) tensor([0.6190, 0.7210, 0.7879, 0.8386, 0.8769, 0.9051, 0.9255, 0.9412, 0.9534,\n",
      "        0.9629, 0.9706, 0.9769, 0.9821])\n",
      "tensor([  16.,   23.,   32.,   45.,   64.,   91.,  128.,  181.,  256.,  362.,\n",
      "         512.,  724., 1024.]) tensor([0.6225, 0.7286, 0.7948, 0.8427, 0.8775, 0.9023, 0.9198, 0.9331, 0.9433,\n",
      "        0.9514, 0.9579, 0.9634, 0.9681])\n",
      "tensor([  16.,   23.,   32.,   45.,   64.,   91.,  128.,  181.,  256.,  362.,\n",
      "         512.,  724., 1024.]) tensor([0.6270, 0.7337, 0.7993, 0.8462, 0.8798, 0.9032, 0.9194, 0.9316, 0.9407,\n",
      "        0.9479, 0.9536, 0.9583, 0.9623])\n",
      "tensor([  16.,   23.,   32.,   45.,   64.,   91.,  128.,  181.,  256.,  362.,\n",
      "         512.,  724., 1024.]) tensor([0.6289, 0.7366, 0.8019, 0.8478, 0.8802, 0.9026, 0.9180, 0.9294, 0.9380,\n",
      "        0.9446, 0.9499, 0.9543, 0.9581])\n",
      "tensor([  16.,   23.,   32.,   45.,   64.,   91.,  128.,  181.,  256.,  362.,\n",
      "         512.,  724., 1024.]) tensor([0.5922, 0.7180, 0.7929, 0.8449, 0.8810, 0.9056, 0.9222, 0.9345, 0.9436,\n",
      "        0.9506, 0.9562, 0.9609, 0.9648])\n",
      "tensor([  16.,   23.,   32.,   45.,   64.,   91.,  128.,  181.,  256.,  362.,\n",
      "         512.,  724., 1024.]) tensor([0.6337, 0.7325, 0.7965, 0.8444, 0.8804, 0.9066, 0.9256, 0.9402, 0.9515,\n",
      "        0.9604, 0.9677, 0.9736, 0.9787])\n",
      "tensor([  16.,   23.,   32.,   45.,   64.,   91.,  128.,  181.,  256.,  362.,\n",
      "         512.,  724., 1024.]) tensor([0.6349, 0.7313, 0.7943, 0.8420, 0.8779, 0.9044, 0.9236, 0.9384, 0.9500,\n",
      "        0.9590, 0.9663, 0.9724, 0.9774])\n",
      "tensor([  16.,   23.,   32.,   45.,   64.,   91.,  128.,  181.,  256.,  362.,\n",
      "         512.,  724., 1024.]) tensor([0.6095, 0.7169, 0.7855, 0.8361, 0.8733, 0.8999, 0.9187, 0.9327, 0.9433,\n",
      "        0.9513, 0.9576, 0.9625, 0.9666])\n",
      "tensor([  16.,   23.,   32.,   45.,   64.,   91.,  128.,  181.,  256.,  362.,\n",
      "         512.,  724., 1024.]) tensor([0.6242, 0.7261, 0.7911, 0.8392, 0.8749, 0.9009, 0.9197, 0.9342, 0.9456,\n",
      "        0.9547, 0.9623, 0.9686, 0.9741])\n",
      "tensor([  16.,   23.,   32.,   45.,   64.,   91.,  128.,  181.,  256.,  362.,\n",
      "         512.,  724., 1024.]) tensor([0.6098, 0.7198, 0.7876, 0.8362, 0.8711, 0.8956, 0.9128, 0.9258, 0.9357,\n",
      "        0.9435, 0.9498, 0.9552, 0.9598])\n",
      "tensor([  16.,   23.,   32.,   45.,   64.,   91.,  128.,  181.,  256.,  362.,\n",
      "         512.,  724., 1024.]) tensor([0.6238, 0.7362, 0.8034, 0.8503, 0.8832, 0.9059, 0.9216, 0.9333, 0.9422,\n",
      "        0.9492, 0.9550, 0.9597, 0.9639])\n",
      "tensor([  16.,   23.,   32.,   45.,   64.,   91.,  128.,  181.,  256.,  362.,\n",
      "         512.,  724., 1024.]) tensor([0.6200, 0.7360, 0.8047, 0.8523, 0.8853, 0.9079, 0.9234, 0.9349, 0.9436,\n",
      "        0.9505, 0.9560, 0.9607, 0.9647])\n",
      "tensor([  16.,   23.,   32.,   45.,   64.,   91.,  128.,  181.,  256.,  362.,\n",
      "         512.,  724., 1024.]) tensor([0.6178, 0.7364, 0.8056, 0.8529, 0.8854, 0.9074, 0.9224, 0.9335, 0.9419,\n",
      "        0.9485, 0.9539, 0.9584, 0.9624])\n",
      "tensor([  16.,   23.,   32.,   45.,   64.,   91.,  128.,  181.,  256.,  362.,\n",
      "         512.,  724., 1024.]) tensor([0.5967, 0.7259, 0.8004, 0.8504, 0.8843, 0.9068, 0.9218, 0.9327, 0.9409,\n",
      "        0.9472, 0.9522, 0.9565, 0.9601])\n",
      "tensor([  16.,   23.,   32.,   45.,   64.,   91.,  128.,  181.,  256.,  362.,\n",
      "         512.,  724., 1024.]) tensor([0.5894, 0.7265, 0.8038, 0.8548, 0.8886, 0.9108, 0.9253, 0.9358, 0.9436,\n",
      "        0.9495, 0.9543, 0.9584, 0.9618])\n",
      "tensor([  16.,   23.,   32.,   45.,   64.,   91.,  128.,  181.,  256.,  362.,\n",
      "         512.,  724., 1024.]) tensor([0.6125, 0.7383, 0.8093, 0.8562, 0.8874, 0.9079, 0.9215, 0.9314, 0.9387,\n",
      "        0.9445, 0.9492, 0.9531, 0.9565])\n",
      "tensor([  16.,   23.,   32.,   45.,   64.,   91.,  128.,  181.,  256.,  362.,\n",
      "         512.,  724., 1024.]) tensor([0.6039, 0.7249, 0.7968, 0.8465, 0.8810, 0.9044, 0.9204, 0.9321, 0.9408,\n",
      "        0.9476, 0.9531, 0.9575, 0.9614])\n",
      "tensor([  16.,   23.,   32.,   45.,   64.,   91.,  128.,  181.,  256.,  362.,\n",
      "         512.,  724., 1024.]) tensor([0.6229, 0.7334, 0.8006, 0.8480, 0.8816, 0.9048, 0.9208, 0.9327, 0.9416,\n",
      "        0.9485, 0.9541, 0.9587, 0.9626])\n",
      "tensor([  16.,   23.,   32.,   45.,   64.,   91.,  128.,  181.,  256.,  362.,\n",
      "         512.,  724., 1024.]) tensor([0.6177, 0.7287, 0.7950, 0.8415, 0.8745, 0.8977, 0.9142, 0.9269, 0.9370,\n",
      "        0.9453, 0.9524, 0.9585, 0.9639])\n",
      "tensor([  16.,   23.,   32.,   45.,   64.,   91.,  128.,  181.,  256.,  362.,\n",
      "         512.,  724., 1024.]) tensor([0.6055, 0.7255, 0.7968, 0.8465, 0.8812, 0.9053, 0.9221, 0.9348, 0.9446,\n",
      "        0.9525, 0.9591, 0.9647, 0.9697])\n",
      "tensor([  16.,   23.,   32.,   45.,   64.,   91.,  128.,  181.,  256.,  362.,\n",
      "         512.,  724., 1024.]) tensor([0.6182, 0.7260, 0.7926, 0.8406, 0.8754, 0.9003, 0.9180, 0.9316, 0.9423,\n",
      "        0.9510, 0.9582, 0.9643, 0.9697])\n",
      "tensor([  16.,   23.,   32.,   45.,   64.,   91.,  128.,  181.,  256.,  362.,\n",
      "         512.,  724., 1024.]) tensor([0.6057, 0.7184, 0.7875, 0.8371, 0.8732, 0.8992, 0.9179, 0.9327, 0.9445,\n",
      "        0.9542, 0.9625, 0.9697, 0.9760])\n",
      "tensor([  16.,   23.,   32.,   45.,   64.,   91.,  128.,  181.,  256.,  362.,\n",
      "         512.,  724., 1024.]) tensor([0.6068, 0.7236, 0.7919, 0.8392, 0.8726, 0.8963, 0.9134, 0.9268, 0.9377,\n",
      "        0.9467, 0.9545, 0.9613, 0.9673])\n",
      "tensor([  16.,   23.,   32.,   45.,   64.,   91.,  128.,  181.,  256.,  362.,\n",
      "         512.,  724., 1024.]) tensor([0.6204, 0.7285, 0.7933, 0.8387, 0.8710, 0.8938, 0.9099, 0.9223, 0.9322,\n",
      "        0.9402, 0.9469, 0.9528, 0.9579])\n",
      "tensor([  16.,   23.,   32.,   45.,   64.,   91.,  128.,  181.,  256.,  362.,\n",
      "         512.,  724., 1024.]) tensor([0.6139, 0.7239, 0.7916, 0.8405, 0.8762, 0.9020, 0.9209, 0.9359, 0.9480,\n",
      "        0.9582, 0.9671, 0.9749, 0.9821])\n",
      "tensor([  16.,   23.,   32.,   45.,   64.,   91.,  128.,  181.,  256.,  362.,\n",
      "         512.,  724., 1024.]) tensor([0.6272, 0.7318, 0.7944, 0.8385, 0.8702, 0.8928, 0.9093, 0.9224, 0.9331,\n",
      "        0.9421, 0.9500, 0.9571, 0.9635])\n",
      "tensor([  16.,   23.,   32.,   45.,   64.,   91.,  128.,  181.,  256.,  362.,\n",
      "         512.,  724., 1024.]) tensor([0.6175, 0.7320, 0.7998, 0.8469, 0.8802, 0.9038, 0.9207, 0.9341, 0.9450,\n",
      "        0.9542, 0.9622, 0.9695, 0.9761])\n",
      "tensor([  16.,   23.,   32.,   45.,   64.,   91.,  128.,  181.,  256.,  362.,\n",
      "         512.,  724., 1024.]) tensor([0.6099, 0.7288, 0.7998, 0.8496, 0.8849, 0.9099, 0.9277, 0.9418, 0.9531,\n",
      "        0.9626, 0.9709, 0.9782, 0.9849])\n",
      "tensor([  16.,   23.,   32.,   45.,   64.,   91.,  128.,  181.,  256.,  362.,\n",
      "         512.,  724., 1024.]) tensor([0.6255, 0.7398, 0.8070, 0.8536, 0.8868, 0.9106, 0.9280, 0.9421, 0.9538,\n",
      "        0.9639, 0.9730, 0.9812, 0.9889])\n",
      "tensor([  16.,   23.,   32.,   45.,   64.,   91.,  128.,  181.,  256.,  362.,\n",
      "         512.,  724., 1024.]) tensor([0.6027, 0.7300, 0.8025, 0.8517, 0.8861, 0.9105, 0.9283, 0.9429, 0.9550,\n",
      "        0.9656, 0.9750, 0.9837, 0.9917])\n",
      "tensor([  16.,   23.,   32.,   45.,   64.,   91.,  128.,  181.,  256.,  362.,\n",
      "         512.,  724., 1024.]) tensor([0.6156, 0.7367, 0.8063, 0.8540, 0.8875, 0.9114, 0.9288, 0.9429, 0.9547,\n",
      "        0.9648, 0.9738, 0.9820, 0.9895])\n",
      "tensor([  16.,   23.,   32.,   45.,   64.,   91.,  128.,  181.,  256.,  362.,\n",
      "         512.,  724., 1024.]) tensor([0.6156, 0.7290, 0.7943, 0.8393, 0.8714, 0.8946, 0.9120, 0.9264, 0.9386,\n",
      "        0.9493, 0.9591, 0.9680, 0.9763])\n",
      "tensor([  16.,   23.,   32.,   45.,   64.,   91.,  128.,  181.,  256.,  362.,\n",
      "         512.,  724., 1024.]) tensor([0.6052, 0.7361, 0.8047, 0.8491, 0.8797, 0.9021, 0.9194, 0.9344, 0.9477,\n",
      "        0.9599, 0.9713, 0.9820, 0.9921])\n",
      "tensor([  16.,   23.,   32.,   45.,   64.,   91.,  128.,  181.,  256.,  362.,\n",
      "         512.,  724., 1024.]) tensor([0.6004, 0.7379, 0.8079, 0.8520, 0.8818, 0.9032, 0.9196, 0.9338, 0.9464,\n",
      "        0.9579, 0.9686, 0.9786, 0.9879])\n",
      "tensor([  16.,   23.,   32.,   45.,   64.,   91.,  128.,  181.,  256.,  362.,\n",
      "         512.,  724., 1024.]) tensor([0.6140, 0.7285, 0.7901, 0.8318, 0.8625, 0.8866, 0.9065, 0.9246, 0.9413,\n",
      "        0.9571, 0.9720, 0.9862, 0.9995])\n",
      "tensor([  16.,   23.,   32.,   45.,   64.,   91.,  128.,  181.,  256.,  362.,\n",
      "         512.,  724., 1024.]) tensor([0.5751, 0.7203, 0.7948, 0.8421, 0.8746, 0.8981, 0.9163, 0.9320, 0.9460,\n",
      "        0.9586, 0.9701, 0.9805, 0.9896])\n",
      "tensor([  16.,   23.,   32.,   45.,   64.,   91.,  128.,  181.,  256.,  362.,\n",
      "         512.,  724., 1024.]) tensor([0.6592, 0.7434, 0.7940, 0.8319, 0.8626, 0.8879, 0.9092, 0.9282, 0.9448,\n",
      "        0.9589, 0.9698, 0.9765, 0.9768])\n",
      "tensor([  16.,   23.,   32.,   45.,   64.,   91.,  128.,  181.,  256.,  362.,\n",
      "         512.,  724., 1024.]) tensor([0.6588, 0.7559, 0.8103, 0.8481, 0.8763, 0.8981, 0.9156, 0.9308, 0.9441,\n",
      "        0.9556, 0.9654, 0.9731, 0.9783])\n",
      "tensor([  16.,   23.,   32.,   45.,   64.,   91.,  128.,  181.,  256.,  362.,\n",
      "         512.,  724., 1024.]) tensor([0.6372, 0.7507, 0.8120, 0.8525, 0.8808, 0.9012, 0.9168, 0.9299, 0.9412,\n",
      "        0.9511, 0.9600, 0.9680, 0.9749])\n",
      "tensor([  16.,   23.,   32.,   45.,   64.,   91.,  128.,  181.,  256.,  362.,\n",
      "         512.,  724., 1024.]) tensor([0.6334, 0.7436, 0.8021, 0.8403, 0.8670, 0.8867, 0.9019, 0.9151, 0.9267,\n",
      "        0.9373, 0.9471, 0.9562, 0.9647])\n",
      "tensor([  16.,   23.,   32.,   45.,   64.,   91.,  128.,  181.,  256.,  362.,\n",
      "         512.,  724., 1024.]) tensor([0.5922, 0.7372, 0.8131, 0.8603, 0.8909, 0.9113, 0.9258, 0.9375, 0.9473,\n",
      "        0.9560, 0.9639, 0.9712, 0.9780])\n",
      "tensor([  16.,   23.,   32.,   45.,   64.,   91.,  128.,  181.,  256.,  362.,\n",
      "         512.,  724., 1024.]) tensor([0.6309, 0.7204, 0.7848, 0.8350, 0.8725, 0.8991, 0.9178, 0.9321, 0.9436,\n",
      "        0.9531, 0.9614, 0.9689, 0.9758])\n",
      "tensor([  16.,   23.,   32.,   45.,   64.,   91.,  128.,  181.,  256.,  362.,\n",
      "         512.,  724., 1024.]) tensor([0.5843, 0.7353, 0.8082, 0.8515, 0.8786, 0.8967, 0.9097, 0.9203, 0.9294,\n",
      "        0.9374, 0.9447, 0.9515, 0.9577])\n",
      "tensor([  16.,   23.,   32.,   45.,   64.,   91.,  128.,  181.,  256.,  362.,\n",
      "         512.,  724., 1024.]) tensor([0.6120, 0.7421, 0.8116, 0.8552, 0.8831, 0.9014, 0.9142, 0.9245, 0.9330,\n",
      "        0.9405, 0.9473, 0.9535, 0.9592])\n",
      "tensor([  16.,   23.,   32.,   45.,   64.,   91.,  128.,  181.,  256.,  362.,\n",
      "         512.,  724., 1024.]) tensor([0.5981, 0.7418, 0.8124, 0.8551, 0.8827, 0.9014, 0.9151, 0.9265, 0.9361,\n",
      "        0.9447, 0.9524, 0.9595, 0.9660])\n",
      "tensor([  16.,   23.,   32.,   45.,   64.,   91.,  128.,  181.,  256.,  362.,\n",
      "         512.,  724., 1024.]) tensor([0.6264, 0.7526, 0.8154, 0.8541, 0.8797, 0.8978, 0.9113, 0.9227, 0.9325,\n",
      "        0.9413, 0.9493, 0.9566, 0.9633])\n",
      "tensor([  16.,   23.,   32.,   45.,   64.,   91.,  128.,  181.,  256.,  362.,\n",
      "         512.,  724., 1024.]) tensor([0.6150, 0.7438, 0.8087, 0.8493, 0.8766, 0.8960, 0.9107, 0.9231, 0.9338,\n",
      "        0.9435, 0.9522, 0.9602, 0.9675])\n",
      "tensor([  16.,   23.,   32.,   45.,   64.,   91.,  128.,  181.,  256.,  362.,\n",
      "         512.,  724., 1024.]) tensor([0.6045, 0.7368, 0.8032, 0.8445, 0.8721, 0.8916, 0.9063, 0.9186, 0.9293,\n",
      "        0.9387, 0.9473, 0.9551, 0.9622])\n",
      "tensor([  16.,   23.,   32.,   45.,   64.,   91.,  128.,  181.,  256.,  362.,\n",
      "         512.,  724., 1024.]) tensor([0.6066, 0.7310, 0.7967, 0.8393, 0.8687, 0.8900, 0.9062, 0.9199, 0.9319,\n",
      "        0.9426, 0.9523, 0.9613, 0.9696])\n",
      "tensor([  16.,   23.,   32.,   45.,   64.,   91.,  128.,  181.,  256.,  362.,\n",
      "         512.,  724., 1024.]) tensor([0.6139, 0.7485, 0.8160, 0.8579, 0.8858, 0.9055, 0.9202, 0.9326, 0.9433,\n",
      "        0.9528, 0.9613, 0.9692, 0.9764])\n",
      "tensor([  16.,   23.,   32.,   45.,   64.,   91.,  128.,  181.,  256.,  362.,\n",
      "         512.,  724., 1024.]) tensor([0.6260, 0.7489, 0.8121, 0.8520, 0.8787, 0.8974, 0.9112, 0.9227, 0.9325,\n",
      "        0.9412, 0.9491, 0.9563, 0.9629])\n",
      "tensor([  16.,   23.,   32.,   45.,   64.,   91.,  128.,  181.,  256.,  362.,\n",
      "         512.,  724., 1024.]) tensor([0.5984, 0.7325, 0.8024, 0.8466, 0.8760, 0.8962, 0.9108, 0.9228, 0.9328,\n",
      "        0.9415, 0.9494, 0.9565, 0.9631])\n",
      "tensor([  16.,   23.,   32.,   45.,   64.,   91.,  128.,  181.,  256.,  362.,\n",
      "         512.,  724., 1024.]) tensor([0.6332, 0.7561, 0.8203, 0.8614, 0.8891, 0.9086, 0.9230, 0.9349, 0.9451,\n",
      "        0.9541, 0.9622, 0.9696, 0.9763])\n",
      "tensor([  16.,   23.,   32.,   45.,   64.,   91.,  128.,  181.,  256.,  362.,\n",
      "         512.,  724., 1024.]) tensor([0.5932, 0.7449, 0.8157, 0.8573, 0.8839, 0.9024, 0.9163, 0.9282, 0.9387,\n",
      "        0.9481, 0.9568, 0.9649, 0.9723])\n",
      "tensor([  16.,   23.,   32.,   45.,   64.,   91.,  128.,  181.,  256.,  362.,\n",
      "         512.,  724., 1024.]) tensor([0.6116, 0.7509, 0.8185, 0.8594, 0.8862, 0.9049, 0.9189, 0.9308, 0.9411,\n",
      "        0.9504, 0.9589, 0.9667, 0.9739])\n"
     ]
    },
    {
     "data": {
      "text/plain": "[<matplotlib.lines.Line2D at 0x7f0afd32fd00>]"
     },
     "execution_count": 161,
     "metadata": {},
     "output_type": "execute_result"
    },
    {
     "data": {
      "text/plain": "<Figure size 2000x1000 with 1 Axes>",
      "image/png": "[encoded data removed]"
     },
     "metadata": {},
     "output_type": "display_data"
    }
   ],
   "source": [
    "from matplotlib import pyplot as plt\n",
    "weights = samples[\"weights\"]\n",
    "thetas = samples[\"theta\"]\n",
    "\n",
    "plt.figure(figsize=(20, 10))\n",
    "for i in range(100):\n",
    "    fitted = combined_single(x_train, weights[i], thetas[i])\n",
    "    pred = combined_single(x_test, weights[i], thetas[i])\n",
    "    print(x_train, fitted)\n",
    "    alpha = 0.05\n",
    "    plt.plot(x_train, fitted, 'b', alpha=alpha)\n",
    "    plt.plot(x_test, pred, 'r', alpha=alpha)\n",
    "    \n",
    "plt.plot(x_train, y_train, 'k')\n",
    "plt.plot(x_test, y_test, 'k')"
   ]
  },
  {
   "cell_type": "code",
   "execution_count": 9,
   "id": "6b23fe98-8191-4364-810b-3057dd9f5937",
   "metadata": {
    "ExecuteTime": {
     "end_time": "2024-02-16T11:23:50.239939037Z",
     "start_time": "2024-02-16T11:23:50.236658141Z"
    }
   },
   "outputs": [],
   "source": []
  }
 ],
 "metadata": {
  "kernelspec": {
   "display_name": "Python 3 (ipykernel)",
   "language": "python",
   "name": "python3"
  },
  "language_info": {
   "codemirror_mode": {
    "name": "ipython",
    "version": 3
   },
   "file_extension": ".py",
   "mimetype": "text/x-python",
   "name": "python",
   "nbconvert_exporter": "python",
   "pygments_lexer": "ipython3",
   "version": "3.10.12"
  }
 },
 "nbformat": 4,
 "nbformat_minor": 5
}
